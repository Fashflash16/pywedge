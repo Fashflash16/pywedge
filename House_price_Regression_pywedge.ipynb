{
  "nbformat": 4,
  "nbformat_minor": 0,
  "metadata": {
    "colab": {
      "name": "House_price_Regression_pywedge.ipynb",
      "provenance": [],
      "authorship_tag": "ABX9TyPID07mjP79bBBRy+EVjdh9",
      "include_colab_link": true
    },
    "kernelspec": {
      "name": "python3",
      "display_name": "Python 3"
    }
  },
  "cells": [
    {
      "cell_type": "markdown",
      "metadata": {
        "id": "view-in-github",
        "colab_type": "text"
      },
      "source": [
        "<a href=\"https://colab.research.google.com/github/taknev83/pywedge/blob/main/House_price_Regression_pywedge.ipynb\" target=\"_parent\"><img src=\"https://colab.research.google.com/assets/colab-badge.svg\" alt=\"Open In Colab\"/></a>"
      ]
    },
    {
      "cell_type": "code",
      "metadata": {
        "id": "fGAQO5y5_KJn"
      },
      "source": [
        "!pip install pywedge"
      ],
      "execution_count": null,
      "outputs": []
    },
    {
      "cell_type": "code",
      "metadata": {
        "id": "wCbZCyqM_NAb",
        "outputId": "3cb8476b-2d91-4e1c-b4e0-0ec27e042f19",
        "colab": {
          "base_uri": "https://localhost:8080/",
          "height": 274
        }
      },
      "source": [
        "import pywedge as pw\n",
        "import pandas as pd\n",
        "train  = pd.read_csv(\"https://raw.githubusercontent.com/taknev83/datasets/master/Train_house_price_prediction_regression.csv\" )\n",
        "test = pd.read_csv('https://raw.githubusercontent.com/taknev83/datasets/master/Test__house_price_prediction_regression.csv')\n",
        "train.head()"
      ],
      "execution_count": 10,
      "outputs": [
        {
          "output_type": "execute_result",
          "data": {
            "text/html": [
              "<div>\n",
              "<style scoped>\n",
              "    .dataframe tbody tr th:only-of-type {\n",
              "        vertical-align: middle;\n",
              "    }\n",
              "\n",
              "    .dataframe tbody tr th {\n",
              "        vertical-align: top;\n",
              "    }\n",
              "\n",
              "    .dataframe thead th {\n",
              "        text-align: right;\n",
              "    }\n",
              "</style>\n",
              "<table border=\"1\" class=\"dataframe\">\n",
              "  <thead>\n",
              "    <tr style=\"text-align: right;\">\n",
              "      <th></th>\n",
              "      <th>POSTED_BY</th>\n",
              "      <th>UNDER_CONSTRUCTION</th>\n",
              "      <th>RERA</th>\n",
              "      <th>BHK_NO.</th>\n",
              "      <th>BHK_OR_RK</th>\n",
              "      <th>SQUARE_FT</th>\n",
              "      <th>READY_TO_MOVE</th>\n",
              "      <th>RESALE</th>\n",
              "      <th>ADDRESS</th>\n",
              "      <th>LONGITUDE</th>\n",
              "      <th>LATITUDE</th>\n",
              "      <th>TARGET(PRICE_IN_LACS)</th>\n",
              "    </tr>\n",
              "  </thead>\n",
              "  <tbody>\n",
              "    <tr>\n",
              "      <th>0</th>\n",
              "      <td>Owner</td>\n",
              "      <td>0</td>\n",
              "      <td>0</td>\n",
              "      <td>2</td>\n",
              "      <td>BHK</td>\n",
              "      <td>1300.236407</td>\n",
              "      <td>1</td>\n",
              "      <td>1</td>\n",
              "      <td>Ksfc Layout,Bangalore</td>\n",
              "      <td>12.969910</td>\n",
              "      <td>77.597960</td>\n",
              "      <td>55.0</td>\n",
              "    </tr>\n",
              "    <tr>\n",
              "      <th>1</th>\n",
              "      <td>Dealer</td>\n",
              "      <td>0</td>\n",
              "      <td>0</td>\n",
              "      <td>2</td>\n",
              "      <td>BHK</td>\n",
              "      <td>1275.000000</td>\n",
              "      <td>1</td>\n",
              "      <td>1</td>\n",
              "      <td>Vishweshwara Nagar,Mysore</td>\n",
              "      <td>12.274538</td>\n",
              "      <td>76.644605</td>\n",
              "      <td>51.0</td>\n",
              "    </tr>\n",
              "    <tr>\n",
              "      <th>2</th>\n",
              "      <td>Owner</td>\n",
              "      <td>0</td>\n",
              "      <td>0</td>\n",
              "      <td>2</td>\n",
              "      <td>BHK</td>\n",
              "      <td>933.159722</td>\n",
              "      <td>1</td>\n",
              "      <td>1</td>\n",
              "      <td>Jigani,Bangalore</td>\n",
              "      <td>12.778033</td>\n",
              "      <td>77.632191</td>\n",
              "      <td>43.0</td>\n",
              "    </tr>\n",
              "    <tr>\n",
              "      <th>3</th>\n",
              "      <td>Owner</td>\n",
              "      <td>0</td>\n",
              "      <td>1</td>\n",
              "      <td>2</td>\n",
              "      <td>BHK</td>\n",
              "      <td>929.921143</td>\n",
              "      <td>1</td>\n",
              "      <td>1</td>\n",
              "      <td>Sector-1 Vaishali,Ghaziabad</td>\n",
              "      <td>28.642300</td>\n",
              "      <td>77.344500</td>\n",
              "      <td>62.5</td>\n",
              "    </tr>\n",
              "    <tr>\n",
              "      <th>4</th>\n",
              "      <td>Dealer</td>\n",
              "      <td>1</td>\n",
              "      <td>0</td>\n",
              "      <td>2</td>\n",
              "      <td>BHK</td>\n",
              "      <td>999.009247</td>\n",
              "      <td>0</td>\n",
              "      <td>1</td>\n",
              "      <td>New Town,Kolkata</td>\n",
              "      <td>22.592200</td>\n",
              "      <td>88.484911</td>\n",
              "      <td>60.5</td>\n",
              "    </tr>\n",
              "  </tbody>\n",
              "</table>\n",
              "</div>"
            ],
            "text/plain": [
              "  POSTED_BY  UNDER_CONSTRUCTION  ...   LATITUDE  TARGET(PRICE_IN_LACS)\n",
              "0     Owner                   0  ...  77.597960                   55.0\n",
              "1    Dealer                   0  ...  76.644605                   51.0\n",
              "2     Owner                   0  ...  77.632191                   43.0\n",
              "3     Owner                   0  ...  77.344500                   62.5\n",
              "4    Dealer                   1  ...  88.484911                   60.5\n",
              "\n",
              "[5 rows x 12 columns]"
            ]
          },
          "metadata": {
            "tags": []
          },
          "execution_count": 10
        }
      ]
    },
    {
      "cell_type": "code",
      "metadata": {
        "id": "rYKJYtlS_mSW"
      },
      "source": [
        "ppd = pw.Pre_process_data(train, test, c='ADDRESS', y='TARGET(PRICE_IN_LACS)', type=\"Regression\")"
      ],
      "execution_count": 11,
      "outputs": []
    },
    {
      "cell_type": "code",
      "metadata": {
        "id": "yuaIBoaN_yXg",
        "outputId": "70ebaa52-da30-4132-8739-883dd78c9c20",
        "colab": {
          "base_uri": "https://localhost:8080/",
          "height": 485
        }
      },
      "source": [
        "new_X, new_y, new_test = ppd.dataframe_clean()"
      ],
      "execution_count": 12,
      "outputs": [
        {
          "output_type": "stream",
          "text": [
            "Reading the datasets...\n",
            "******************************************\n",
            "\n",
            "Train Dataframe summary...\n",
            "******************************************\n",
            "\n",
            "Your selected train dataframe has 12 columns and 29451 Rows.\n",
            "There are 0 columns that have missing values.\n",
            "Empty DataFrame\n",
            "Columns: [Zero Values, Missing Values, % of Total Values, Total Zero Missing Values, % Total Zero Missing Values, Data Type]\n",
            "Index: []\n",
            "******************************************\n",
            "Starting data cleaning...\n",
            "******************************************\n",
            "Do you want to use get_dummies or catcodes to convert categorical to numerical? \n",
            "\tpress 1 for catcodes - Quick info link - https://bit.ly/3lruqtf \n",
            "\tpress 2 for getdummies - Quick info link - https://bit.ly/3d76p7A \n",
            "2\n",
            "Comleted categorical column transformation\n",
            "******************************************\n",
            "Do you want to standardize the data? \n",
            "\tpress 1 for Standard Scalar - Quick info link - https://bit.ly/2GPyG6w \n",
            "\tpress 2 for Robust Scalar - Quick info link - https://bit.ly/3jFNCD5 \n",
            "\tpress 3 for MinMax Scalar - Quick info link - https://bit.ly/2GKYJvX \n",
            "\tpress n for no standardize\n",
            "1\n",
            "standardization using Standard Scalar completed\n"
          ],
          "name": "stdout"
        }
      ]
    },
    {
      "cell_type": "code",
      "metadata": {
        "id": "CUQDgc9O_1Ib"
      },
      "source": [
        "X = new_X\n",
        "y = new_y\n",
        "so_test = new_test"
      ],
      "execution_count": 13,
      "outputs": []
    },
    {
      "cell_type": "code",
      "metadata": {
        "id": "7HB06xJPABx1"
      },
      "source": [
        "blm = pw.baseline_model(X,y)"
      ],
      "execution_count": 14,
      "outputs": []
    },
    {
      "cell_type": "code",
      "metadata": {
        "id": "SmOOFnDNAFPM",
        "outputId": "bd405ee3-4ca8-4c96-f403-36b64e84851c",
        "colab": {
          "base_uri": "https://localhost:8080/",
          "height": 589
        }
      },
      "source": [
        "blm.Regression_summary()"
      ],
      "execution_count": 15,
      "outputs": [
        {
          "output_type": "stream",
          "text": [
            "Starting regression summary...\n",
            "TOP 10 FEATURE IMPORTANCE TABLE\n",
            "SQUARE_FT             0.772439\n",
            "LATITUDE              0.076279\n",
            "RESALE                0.072176\n",
            "BHK_NO.               0.050189\n",
            "LONGITUDE             0.020698\n",
            "UNDER_CONSTRUCTION    0.004114\n",
            "POSTED_BY_Owner       0.002330\n",
            "READY_TO_MOVE         0.001659\n",
            "POSTED_BY_Dealer      0.000116\n",
            "BHK_OR_RK_RK          0.000000\n",
            "dtype: float64\n",
            "Please enter test size: (for eg. please enter 0.20 for 20% test size): \n",
            "\t0.2\n",
            "--------------------------LINEAR MODELS---------------------------------\n",
            "Linear Reg     | exp_var = 0.211 | mae = 138.649 | rmse = 11.775 | r2 = 0.211 | Train time = 0.018 | Pred. time = 0.002\n",
            "KNN            | exp_var = 0.386 | mae = 70.128 | rmse = 8.374 | r2 = 0.385 | Train time = 0.357 | Pred. time = 1.140\n",
            "SVR            | exp_var = 0.012 | mae = 94.688 | rmse = 9.731 | r2 = 0.001 | Train time = 51.564 | Pred. time = 4.960\n",
            "LinearSVR      | exp_var = 0.139 | mae = 96.807 | rmse = 9.839 | r2 = 0.128 | Train time = 0.132 | Pred. time = 0.001\n",
            "Lasso          | exp_var = 0.211 | mae = 138.337 | rmse = 11.762 | r2 = 0.211 | Train time = 0.033 | Pred. time = 0.000\n",
            "Ridge          | exp_var = 0.211 | mae = 138.633 | rmse = 11.774 | r2 = 0.211 | Train time = 0.006 | Pred. time = 0.000\n",
            "------------------------NON LINEAR MODELS----------------------------------\n",
            "---------------------THIS MIGHT TAKE A WHILE-------------------------------\n",
            "SVR            | exp_var = 0.012 | mae = 94.688 | rmse = 9.731 | r2 = 0.001 | Train time = 49.353 | Pred. time = 5.163\n",
            "Decision Tree  | exp_var = 0.737 | mae = 55.161 | rmse = 7.427 | r2 = 0.737 | Train time = 0.044 | Pred. time = 0.002\n",
            "Random Forest  | exp_var = 0.754 | mae = 39.887 | rmse = 6.316 | r2 = 0.754 | Train time = 5.592 | Pred. time = 0.065\n",
            "GB Regressor   | exp_var = 0.756 | mae = 42.662 | rmse = 6.532 | r2 = 0.756 | Train time = 6.038 | Pred. time = 0.016\n",
            "CB Regressor   | exp_var = 0.860 | mae = 37.461 | rmse = 6.121 | r2 = 0.860 | Train time = 5.502 | Pred. time = 0.016\n",
            "ADAB Regressor | exp_var = 0.734 | mae = 177.862 | rmse = 13.336 | r2 = 0.692 | Train time = 0.805 | Pred. time = 0.013\n",
            "MLP Regressor  | exp_var = 0.231 | mae = 122.886 | rmse = 11.085 | r2 = 0.231 | Train time = 26.015 | Pred. time = 0.008\n",
            "[21:02:59] WARNING: /workspace/src/objective/regression_obj.cu:152: reg:linear is now deprecated in favor of reg:squarederror.\n",
            "XGB Regressor  | exp_var = 0.762 | mae = 46.147 | rmse = 6.793 | r2 = 0.762 | Train time = 1.226 | Pred. time = 0.016\n"
          ],
          "name": "stdout"
        }
      ]
    },
    {
      "cell_type": "code",
      "metadata": {
        "id": "66AqgPDcANGj"
      },
      "source": [
        ""
      ],
      "execution_count": null,
      "outputs": []
    }
  ]
}