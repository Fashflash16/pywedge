{
  "nbformat": 4,
  "nbformat_minor": 0,
  "metadata": {
    "colab": {
      "name": "Corss_sell_classification_pywedge",
      "provenance": [],
      "authorship_tag": "ABX9TyOYKdsPaDntSUGoV8sJ0J3G",
      "include_colab_link": true
    },
    "kernelspec": {
      "name": "python3",
      "display_name": "Python 3"
    }
  },
  "cells": [
    {
      "cell_type": "markdown",
      "metadata": {
        "id": "view-in-github",
        "colab_type": "text"
      },
      "source": [
        "<a href=\"https://colab.research.google.com/github/taknev83/pywedge/blob/main/Corss_sell_classification_pywedge.ipynb\" target=\"_parent\"><img src=\"https://colab.research.google.com/assets/colab-badge.svg\" alt=\"Open In Colab\"/></a>"
      ]
    },
    {
      "cell_type": "code",
      "metadata": {
        "id": "el5-AGgVuhx3"
      },
      "source": [
        "!pip install pywedge"
      ],
      "execution_count": null,
      "outputs": []
    },
    {
      "cell_type": "code",
      "metadata": {
        "id": "9sUKtuToujfB"
      },
      "source": [
        "import pywedge as pw\n",
        "import pandas as pd\n",
        "train = pd.read_csv('https://raw.githubusercontent.com/taknev83/datasets/master/train_crosssell_classification.csv')\n",
        "test = pd.read_csv('https://raw.githubusercontent.com/taknev83/datasets/master/test_crosssell_classification.csv')\n",
        "sample_submission = pd.read_csv('https://raw.githubusercontent.com/taknev83/datasets/master/sample_submission_crosssell_classification.csv')"
      ],
      "execution_count": 3,
      "outputs": []
    },
    {
      "cell_type": "code",
      "metadata": {
        "id": "5aOWhSPf4-P_",
        "outputId": "0ee1babd-fd52-4097-9f7f-16bc3ddb60a7",
        "colab": {
          "base_uri": "https://localhost:8080/",
          "height": 340
        }
      },
      "source": [
        "train.info()"
      ],
      "execution_count": 5,
      "outputs": [
        {
          "output_type": "stream",
          "text": [
            "<class 'pandas.core.frame.DataFrame'>\n",
            "RangeIndex: 381109 entries, 0 to 381108\n",
            "Data columns (total 12 columns):\n",
            " #   Column                Non-Null Count   Dtype  \n",
            "---  ------                --------------   -----  \n",
            " 0   id                    381109 non-null  int64  \n",
            " 1   Gender                381109 non-null  object \n",
            " 2   Age                   381109 non-null  int64  \n",
            " 3   Driving_License       381109 non-null  int64  \n",
            " 4   Region_Code           381109 non-null  float64\n",
            " 5   Previously_Insured    381109 non-null  int64  \n",
            " 6   Vehicle_Age           381109 non-null  object \n",
            " 7   Vehicle_Damage        381109 non-null  object \n",
            " 8   Annual_Premium        381109 non-null  float64\n",
            " 9   Policy_Sales_Channel  381109 non-null  float64\n",
            " 10  Vintage               381109 non-null  int64  \n",
            " 11  Response              381109 non-null  int64  \n",
            "dtypes: float64(3), int64(6), object(3)\n",
            "memory usage: 34.9+ MB\n"
          ],
          "name": "stdout"
        }
      ]
    },
    {
      "cell_type": "code",
      "metadata": {
        "id": "nHowgbNnur-P"
      },
      "source": [
        "ppd = pw.Pre_process_data(train, test, c='id', y='Response')"
      ],
      "execution_count": 6,
      "outputs": []
    },
    {
      "cell_type": "code",
      "metadata": {
        "id": "4IZrx54MuwfP",
        "outputId": "6257e8cb-2f0b-42b5-c856-7830df90a035",
        "colab": {
          "base_uri": "https://localhost:8080/",
          "height": 802
        }
      },
      "source": [
        "new_X, new_y, new_test = ppd.dataframe_clean()"
      ],
      "execution_count": 7,
      "outputs": [
        {
          "output_type": "stream",
          "text": [
            "Reading the datasets...\n",
            "******************************************\n",
            "\n",
            "Train Dataframe summary...\n",
            "******************************************\n",
            "\n",
            "Your selected train dataframe has 12 columns and 381109 Rows.\n",
            "There are 0 columns that have missing values.\n",
            "Empty DataFrame\n",
            "Columns: [Zero Values, Missing Values, % of Total Values, Total Zero Missing Values, % Total Zero Missing Values, Data Type]\n",
            "Index: []\n",
            "******************************************\n",
            "Class balance summary table\n",
            "0    334399\n",
            "1     46710\n",
            "Name: Response, dtype: int64\n",
            "\n",
            " Class imbalance % is  12.26 %\n",
            "Starting data cleaning...\n",
            "******************************************\n",
            "Do you want to use get_dummies or catcodes to convert categorical to numerical? \n",
            "\tpress 1 for catcodes - Quick info link - https://bit.ly/3lruqtf \n",
            "\tpress 2 for getdummies - Quick info link - https://bit.ly/3d76p7A \n",
            "2\n",
            "Comleted categorical column transformation\n",
            "******************************************\n",
            "Do you want to standardize the data? \n",
            "\tpress 1 for Standard Scalar - Quick info link - https://bit.ly/2GPyG6w \n",
            "\tpress 2 for Robust Scalar - Quick info link - https://bit.ly/3jFNCD5 \n",
            "\tpress 3 for MinMax Scalar - Quick info link - https://bit.ly/2GKYJvX \n",
            "\tpress n for no standardize\n",
            "1\n",
            "standardization using Standard Scalar completed\n",
            "Do you want to apply SMOTE to oversample the minority class? y/n \n",
            "\tQuick info on SMOTE - https://bit.ly/3nlGCNX \n",
            "y\n"
          ],
          "name": "stdout"
        },
        {
          "output_type": "stream",
          "text": [
            "/usr/local/lib/python3.6/dist-packages/sklearn/externals/six.py:31: FutureWarning: The module is deprecated in version 0.21 and will be removed in version 0.23 since we've dropped support for Python 2.7. Please rely on the official version of six (https://pypi.org/project/six/).\n",
            "  \"(https://pypi.org/project/six/).\", FutureWarning)\n",
            "/usr/local/lib/python3.6/dist-packages/sklearn/utils/deprecation.py:144: FutureWarning: The sklearn.neighbors.base module is  deprecated in version 0.22 and will be removed in version 0.24. The corresponding classes / functions should instead be imported from sklearn.neighbors. Anything that cannot be imported from sklearn.neighbors is now part of the private API.\n",
            "  warnings.warn(message, FutureWarning)\n",
            "/usr/local/lib/python3.6/dist-packages/sklearn/utils/validation.py:760: DataConversionWarning: A column-vector y was passed when a 1d array was expected. Please change the shape of y to (n_samples, ), for example using ravel().\n",
            "  y = column_or_1d(y, warn=True)\n",
            "/usr/local/lib/python3.6/dist-packages/sklearn/utils/deprecation.py:87: FutureWarning: Function safe_indexing is deprecated; safe_indexing is deprecated in version 0.22 and will be removed in version 0.24.\n",
            "  warnings.warn(msg, category=FutureWarning)\n"
          ],
          "name": "stderr"
        },
        {
          "output_type": "stream",
          "text": [
            "Oversampling using SMOTE completed\n"
          ],
          "name": "stdout"
        }
      ]
    },
    {
      "cell_type": "code",
      "metadata": {
        "id": "pLH1X1ixuzLw"
      },
      "source": [
        "X = new_X\n",
        "y = new_y\n",
        "so_test = new_test"
      ],
      "execution_count": 8,
      "outputs": []
    },
    {
      "cell_type": "code",
      "metadata": {
        "id": "LKyETuAdu6gw"
      },
      "source": [
        "blm = pw.baseline_model(X,y)"
      ],
      "execution_count": 9,
      "outputs": []
    },
    {
      "cell_type": "code",
      "metadata": {
        "id": "rHRxUF8fu9ew",
        "outputId": "bcecab3c-d518-487d-8e2d-d8fc18a3f96e",
        "colab": {
          "base_uri": "https://localhost:8080/",
          "height": 442
        }
      },
      "source": [
        "blm.classification_summary()"
      ],
      "execution_count": 10,
      "outputs": [
        {
          "output_type": "stream",
          "text": [
            "Starting classification_summary...\n",
            "TOP 10 FEATURE IMPORTANCE\n",
            "Policy_Sales_Channel     0.42\n",
            "Region_Code              0.26\n",
            "Age                      0.20\n",
            "Vehicle_Damage_Yes       0.06\n",
            "Previously_Insured       0.04\n",
            "Annual_Premium           0.02\n",
            "Vehicle_Age_> 2 Years    0.00\n",
            "Vehicle_Age_< 1 Year     0.00\n",
            "Gender_Male              0.00\n",
            "Vintage                  0.00\n",
            "dtype: float64\n",
            "Please enter test size (for eg. please enter 0.20 for 20% test size):\n",
            "0.2\n",
            "Logistic       | acc_score = 0.784 | roc_score = 0.783 | f1_score(macro) = 0.775 | Training time = 1.947 | Pred. time = 0.005\n",
            "KNN(3)         | acc_score = 0.881 | roc_score = 0.881 | f1_score(macro) = 0.880 | Training time = 310.174 | Pred. time = 121.035\n",
            "Decision Tree  | acc_score = 0.813 | roc_score = 0.813 | f1_score(macro) = 0.811 | Training time = 2.999 | Pred. time = 0.013\n",
            "Random Forest  | acc_score = 0.808 | roc_score = 0.808 | f1_score(macro) = 0.802 | Training time = 9.781 | Pred. time = 0.107\n",
            "Neural Net     | acc_score = 0.793 | roc_score = 0.793 | f1_score(macro) = 0.788 | Training time = 50.533 | Pred. time = 0.173\n",
            "XGBoost        | acc_score = 0.807 | roc_score = 0.807 | f1_score(macro) = 0.801 | Training time = 5.273 | Pred. time = 0.056\n",
            "AdaBoost       | acc_score = 0.807 | roc_score = 0.807 | f1_score(macro) = 0.804 | Training time = 34.753 | Pred. time = 1.033\n",
            "CatBoost       | acc_score = 0.905 | roc_score = 0.905 | f1_score(macro) = 0.905 | Training time = 191.611 | Pred. time = 0.363\n",
            "Naive Bayes    | acc_score = 0.784 | roc_score = 0.784 | f1_score(macro) = 0.776 | Training time = 0.161 | Pred. time = 0.031\n",
            "QDA            | acc_score = 0.784 | roc_score = 0.784 | f1_score(macro) = 0.776 | Training time = 0.382 | Pred. time = 0.049\n"
          ],
          "name": "stdout"
        }
      ]
    },
    {
      "cell_type": "code",
      "metadata": {
        "id": "KK_Gs_Q7vAGw"
      },
      "source": [
        ""
      ],
      "execution_count": null,
      "outputs": []
    }
  ]
}